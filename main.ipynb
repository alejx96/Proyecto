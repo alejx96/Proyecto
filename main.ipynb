{
 "cells": [
  {
   "cell_type": "code",
   "execution_count": null,
   "metadata": {},
   "outputs": [],
   "source": [
    "import pandas as pd\n",
    "import matplotlib.pyplot as plt\n",
    "\n",
    "#Cargar archivo CSV\n",
    "df = pd.read_csv('D:/clases/6to Semestre/Minería de Datos/Proyecto/Hipertension_Arterial_Mexico.csv')\n",
    "\n",
    "df"
   ]
  },
  {
   "cell_type": "code",
   "execution_count": null,
   "metadata": {},
   "outputs": [],
   "source": [
    "df['IMC'] = df['peso'] / (df['estatura'] / 100) ** 2\n",
    "\n",
    "def clasificar_hipertension(valor):\n",
    "    if valor < 120:\n",
    "        return 'Normal'\n",
    "    elif valor < 130:\n",
    "        return 'Elevado'\n",
    "    elif valor < 140:\n",
    "        return 'Hipertensión grado 1'\n",
    "    else:\n",
    "        return 'Hipertensión grado 2'\n",
    "\n",
    "df['clasificación_hipertensión'] = df['tension_arterial'].apply(clasificar_hipertension)\n",
    "\n",
    "#Conversion\n",
    "df['sexo'] = df['sexo'].map({1: 'Masculino', 2: 'Femenino'})\n",
    "\n",
    "df"
   ]
  },
  {
   "cell_type": "code",
   "execution_count": 15,
   "metadata": {},
   "outputs": [],
   "source": [
    "df_genre = df.drop(columns=['concentracion_hemoglobina',\n",
    "'temperatura_ambiente',\n",
    "'valor_albumina',\n",
    "'valor_colesterol_hdl',\n",
    "'valor_colesterol_ldl',\n",
    "'resultado_glucosa_promedio',\n",
    "'valor_hemoglobina_glucosilada',\n",
    "'valor_ferritina',\n",
    "'valor_folato',\n",
    "'valor_homocisteina',\n",
    "'valor_proteinac_reactiva',\n",
    "'valor_transferrina',\n",
    "'valor_vitamina_bdoce',\n",
    "'valor_vitamina_d',\n",
    "'medida_cintura',\n",
    "'segundamedicion_peso',\n",
    "'segundamedicion_estatura',\n",
    "'distancia_rodilla_talon',\n",
    "'circunferencia_de_la_pantorrilla',\n",
    "'segundamedicion_cintura',\n",
    "'riesgo_hipertension','clasificación_hipertensión','FOLIO_I'], axis=1)"
   ]
  },
  {
   "cell_type": "code",
   "execution_count": null,
   "metadata": {},
   "outputs": [],
   "source": [
    "df_genre = df_genre.groupby('sexo').mean()\n",
    "\n",
    "df_genre"
   ]
  },
  {
   "cell_type": "code",
   "execution_count": null,
   "metadata": {},
   "outputs": [],
   "source": [
    "fig, ax = plt.subplots()\n",
    "\n",
    "plt.axhline(y=7,color='r',linestyle='--',linewidth=1,label='Limite')\n",
    "plt.ylabel('Acido Urico')\n",
    "plt.title('Valor Acido Urico por Sexo')\n",
    "ax.bar(x = df_genre.groupby('sexo').groups.keys(), height = df_genre['valor_acido_urico'])"
   ]
  }
 ],
 "metadata": {
  "kernelspec": {
   "display_name": "Python 3",
   "language": "python",
   "name": "python3"
  },
  "language_info": {
   "codemirror_mode": {
    "name": "ipython",
    "version": 3
   },
   "file_extension": ".py",
   "mimetype": "text/x-python",
   "name": "python",
   "nbconvert_exporter": "python",
   "pygments_lexer": "ipython3",
   "version": "3.9.13"
  }
 },
 "nbformat": 4,
 "nbformat_minor": 2
}
